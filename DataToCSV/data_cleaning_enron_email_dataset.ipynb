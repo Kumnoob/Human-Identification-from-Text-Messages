{
  "cells": [
    {
      "cell_type": "markdown",
      "metadata": {
        "colab_type": "text",
        "id": "view-in-github"
      },
      "source": [
        "<a href=\"https://colab.research.google.com/github/Kumnoob/Human-Identification-from-Text-Messages/blob/main/DataToCSV/data_cleaning_enron_email_dataset.ipynb\" target=\"_parent\"><img src=\"https://colab.research.google.com/assets/colab-badge.svg\" alt=\"Open In Colab\"/></a>"
      ]
    },
    {
      "cell_type": "code",
      "execution_count": 1,
      "metadata": {
        "id": "n1qS2ZoMX_Dz"
      },
      "outputs": [],
      "source": [
        "# This Python 3 environment comes with many helpful analytics libraries installed\n",
        "# It is defined by the kaggle/python Docker image: https://github.com/kaggle/docker-python\n",
        "# For example, here's several helpful packages to load\n",
        "\n",
        "import numpy as np # linear algebra\n",
        "import pandas as pd # data processing, CSV file I/O (e.g. pd.read_csv)\n",
        "\n",
        "# Input data files are available in the read-only \"../input/\" directory\n",
        "# For example, running this (by clicking run or pressing Shift+Enter) will list all files under the input directory\n",
        "\n",
        "import os\n",
        "for dirname, _, filenames in os.walk('/kaggle/input'):\n",
        "    for filename in filenames:\n",
        "        print(os.path.join(dirname, filename))\n",
        "\n",
        "# You can write up to 20GB to the current directory (/kaggle/working/) that gets preserved as output when you create a version using \"Save & Run All\" \n",
        "# You can also write temporary files to /kaggle/temp/, but they won't be saved outside of the current session"
      ]
    },
    {
      "cell_type": "markdown",
      "metadata": {
        "id": "bdtGSA9uX_D3"
      },
      "source": [
        "### Import necessary libraries"
      ]
    },
    {
      "cell_type": "code",
      "execution_count": 3,
      "metadata": {
        "id": "MJN46WlkX_D5"
      },
      "outputs": [
        {
          "ename": "ModuleNotFoundError",
          "evalue": "No module named 'seaborn'",
          "output_type": "error",
          "traceback": [
            "\u001b[1;31m---------------------------------------------------------------------------\u001b[0m",
            "\u001b[1;31mModuleNotFoundError\u001b[0m                       Traceback (most recent call last)",
            "Cell \u001b[1;32mIn [3], line 2\u001b[0m\n\u001b[0;32m      1\u001b[0m \u001b[39mimport\u001b[39;00m \u001b[39mmultiprocessing\u001b[39;00m\n\u001b[1;32m----> 2\u001b[0m \u001b[39mimport\u001b[39;00m \u001b[39mseaborn\u001b[39;00m \u001b[39mas\u001b[39;00m \u001b[39msns\u001b[39;00m\n\u001b[0;32m      3\u001b[0m \u001b[39mimport\u001b[39;00m \u001b[39memail\u001b[39;00m\n\u001b[0;32m      4\u001b[0m \u001b[39mimport\u001b[39;00m \u001b[39mmatplotlib\u001b[39;00m\u001b[39m.\u001b[39;00m\u001b[39mpyplot\u001b[39;00m \u001b[39mas\u001b[39;00m \u001b[39mplt\u001b[39;00m\n",
            "\u001b[1;31mModuleNotFoundError\u001b[0m: No module named 'seaborn'"
          ]
        }
      ],
      "source": [
        "import multiprocessing\n",
        "import seaborn as sns\n",
        "import email\n",
        "import matplotlib.pyplot as plt"
      ]
    },
    {
      "cell_type": "markdown",
      "metadata": {
        "id": "D8XOAbNQX_D6"
      },
      "source": [
        "### Load Data"
      ]
    },
    {
      "cell_type": "code",
      "execution_count": null,
      "metadata": {
        "colab": {
          "base_uri": "https://localhost:8080/"
        },
        "id": "uyVl5-QkaC4q",
        "outputId": "251477b7-8105-4eb1-99ae-973f16ea2edb"
      },
      "outputs": [],
      "source": [
        "#from google.colab import drive\n",
        "#drive.mount('/content/drive')"
      ]
    },
    {
      "cell_type": "code",
      "execution_count": null,
      "metadata": {
        "id": "GTl0uBLWX_D6"
      },
      "outputs": [],
      "source": [
        "df = pd.read_csv(\"/Users/USER/Desktop/project/emails.csv\")"
      ]
    },
    {
      "cell_type": "markdown",
      "metadata": {
        "id": "_KWtEU7xX_D7"
      },
      "source": [
        "### Data Exploration"
      ]
    },
    {
      "cell_type": "code",
      "execution_count": null,
      "metadata": {
        "colab": {
          "base_uri": "https://localhost:8080/",
          "height": 206
        },
        "id": "crwfX6l2X_D7",
        "outputId": "0aa9d795-ce97-4675-fa12-28c1f1be6c84"
      },
      "outputs": [],
      "source": [
        "# view first 5 rows of the dataset\n",
        "df.head()"
      ]
    },
    {
      "cell_type": "code",
      "execution_count": null,
      "metadata": {
        "colab": {
          "base_uri": "https://localhost:8080/"
        },
        "id": "CuaVVnSpX_D8",
        "outputId": "002e4adc-9b46-457a-9f23-536b50e1608d"
      },
      "outputs": [],
      "source": [
        "# get shape of the data\n",
        "df.shape"
      ]
    },
    {
      "cell_type": "code",
      "execution_count": null,
      "metadata": {
        "colab": {
          "base_uri": "https://localhost:8080/"
        },
        "id": "wW0O_5n8X_D9",
        "outputId": "45478f2b-19b5-4c69-f499-e2219b9cd6c1"
      },
      "outputs": [],
      "source": [
        "# a sample email\n",
        "print(df.loc[1]['message'])"
      ]
    },
    {
      "cell_type": "code",
      "execution_count": null,
      "metadata": {
        "colab": {
          "base_uri": "https://localhost:8080/"
        },
        "id": "pjgx2EpwX_D-",
        "outputId": "bb087698-49c9-4463-9ba4-4272a1194c7d"
      },
      "outputs": [],
      "source": [
        "# transform the email into correct format\n",
        "message = df.loc[1]['message']\n",
        "e = email.message_from_string(message)\n",
        "\n",
        "e.items()"
      ]
    },
    {
      "cell_type": "code",
      "execution_count": null,
      "metadata": {
        "colab": {
          "base_uri": "https://localhost:8080/",
          "height": 36
        },
        "id": "G4ayLi_DX_D-",
        "outputId": "0581b2ee-0a14-4b43-dd48-38d97b4db4b0"
      },
      "outputs": [],
      "source": [
        "# get date\n",
        "e.get('Date')"
      ]
    },
    {
      "cell_type": "code",
      "execution_count": null,
      "metadata": {
        "colab": {
          "base_uri": "https://localhost:8080/",
          "height": 105
        },
        "id": "nlyWbxwlX_D-",
        "outputId": "e511eb54-d7d1-4ef4-8920-c75848c45179"
      },
      "outputs": [],
      "source": [
        "# show message body\n",
        "e.get_payload()"
      ]
    },
    {
      "cell_type": "markdown",
      "metadata": {
        "id": "F03plWXNX_D_"
      },
      "source": [
        "### Extract headers"
      ]
    },
    {
      "cell_type": "code",
      "execution_count": null,
      "metadata": {
        "id": "i2QDaHnlX_D_"
      },
      "outputs": [],
      "source": [
        "# now we add those fields into our 'df' dataframe\n",
        "def get_field(field, messages):\n",
        "    column = []\n",
        "    for message in messages:\n",
        "        e = email.message_from_string(message)\n",
        "        column.append(e.get(field))\n",
        "    return column"
      ]
    },
    {
      "cell_type": "code",
      "execution_count": null,
      "metadata": {
        "colab": {
          "base_uri": "https://localhost:8080/",
          "height": 239
        },
        "id": "o6TbRqt2X_D_",
        "outputId": "35d92f50-6720-4942-bd26-5bdf3d2b3818"
      },
      "outputs": [],
      "source": [
        "df['date'] = get_field(\"Date\", df['message'])\n",
        "df['subject'] = get_field(\"Subject\", df['message'])\n",
        "df['X-Folder'] = get_field(\"X-Folder\", df['message'])\n",
        "df['X-From'] = get_field(\"X-From\", df['message'])\n",
        "df['X-To'] = get_field(\"X-To\", df['message'])\n",
        "df.head(3)"
      ]
    },
    {
      "cell_type": "markdown",
      "metadata": {
        "id": "kCLGC5aQX_EA"
      },
      "source": [
        "### Extract Message Body"
      ]
    },
    {
      "cell_type": "code",
      "execution_count": null,
      "metadata": {
        "colab": {
          "base_uri": "https://localhost:8080/"
        },
        "id": "k7RqcURbX_EA",
        "outputId": "ef519258-aa14-46cd-9f98-c0595f4cd22c"
      },
      "outputs": [],
      "source": [
        "def body(messages):\n",
        "    column = []\n",
        "    for message in messages:\n",
        "        e = email.message_from_string(message)\n",
        "        column.append(e.get_payload())\n",
        "    return column\n",
        "\n",
        "df['body'] = body(df['message'])\n",
        "df.head(3)"
      ]
    },
    {
      "cell_type": "markdown",
      "metadata": {
        "id": "QVDPC6hIX_EA"
      },
      "source": [
        "### Employee Names"
      ]
    },
    {
      "cell_type": "code",
      "execution_count": null,
      "metadata": {
        "colab": {
          "base_uri": "https://localhost:8080/"
        },
        "id": "trHhMT1tX_EA",
        "outputId": "71a87be5-5dc0-4d2c-bfb4-f323fe0a2942"
      },
      "outputs": [],
      "source": [
        "df['file'][:10]"
      ]
    },
    {
      "cell_type": "code",
      "execution_count": null,
      "metadata": {
        "colab": {
          "base_uri": "https://localhost:8080/"
        },
        "id": "9UiHTwblX_EB",
        "outputId": "4773322e-d4d2-454e-dae3-2e8015a26e6f"
      },
      "outputs": [],
      "source": [
        "def employee(file):\n",
        "    column = []\n",
        "    for string in file:\n",
        "        column.append(string.split(\"/\")[0])\n",
        "    return column\n",
        "\n",
        "df['employee'] = employee(df['file'])\n",
        "df.head(3)"
      ]
    },
    {
      "cell_type": "markdown",
      "metadata": {
        "id": "lX3uddOdX_EB"
      },
      "source": [
        "### Look into X-Folder"
      ]
    },
    {
      "cell_type": "code",
      "execution_count": null,
      "metadata": {
        "colab": {
          "base_uri": "https://localhost:8080/"
        },
        "id": "uqL-P1zuX_EB",
        "outputId": "81da5f5d-c79f-47c0-d1b4-e181c18a0406"
      },
      "outputs": [],
      "source": [
        "print(\"number of folders: \", df.shape[0])\n",
        "print(\"number of unique folders: \", df['X-Folder'].unique().shape[0])"
      ]
    },
    {
      "cell_type": "code",
      "execution_count": null,
      "metadata": {
        "colab": {
          "base_uri": "https://localhost:8080/"
        },
        "id": "F9nI8ksEX_EB",
        "outputId": "e771f3d2-9751-460c-ffaf-a2263a48cfaf"
      },
      "outputs": [],
      "source": [
        "unique_emails = pd.DataFrame(df['X-Folder'].value_counts())\n",
        "unique_emails.reset_index(inplace=True)\n",
        "\n",
        "\n",
        "unique_emails.columns = ['folder_name', 'count']\n",
        "# top 20 folders\n",
        "unique_emails.iloc[:20,:]"
      ]
    },
    {
      "cell_type": "markdown",
      "metadata": {
        "id": "-idFgNVUX_EC"
      },
      "source": [
        "### Visualize top 20 folders"
      ]
    },
    {
      "cell_type": "code",
      "execution_count": null,
      "metadata": {
        "colab": {
          "base_uri": "https://localhost:8080/"
        },
        "id": "64p9znUXX_EC",
        "outputId": "0d211133-ce7d-4712-ae13-d67156a1c43a"
      },
      "outputs": [],
      "source": [
        "plt.figure(figsize=(10,6))\n",
        "sns.barplot(x='count', y='folder_name', data=unique_emails.iloc[:20, :], palette=\"Blues_d\")\n",
        "plt.title(\"Top 20 folders\")\n",
        "plt.xlabel(\"Count\")\n",
        "plt.ylabel(\"Folder_Name\")\n",
        "plt.show()"
      ]
    },
    {
      "cell_type": "markdown",
      "metadata": {
        "id": "zCZcMYeWX_EC"
      },
      "source": [
        "**Let's see top 20 highest email sender employee**"
      ]
    },
    {
      "cell_type": "code",
      "execution_count": null,
      "metadata": {
        "colab": {
          "base_uri": "https://localhost:8080/"
        },
        "id": "AKZOwnm3X_EC",
        "outputId": "b659595b-0c3e-4e6f-82de-91ccaf9e6abe"
      },
      "outputs": [],
      "source": [
        "top_20 = pd.DataFrame(df['employee'].value_counts()[:20])\n",
        "top_20.reset_index(inplace=True)\n",
        "top_20.columns = [\"Employee_name\", \"Counts\"]\n",
        "top_20"
      ]
    },
    {
      "cell_type": "markdown",
      "metadata": {
        "id": "w7Ik-CB_X_EC"
      },
      "source": [
        "**Visualize top 20 highest email sender employees**"
      ]
    },
    {
      "cell_type": "code",
      "execution_count": null,
      "metadata": {
        "colab": {
          "base_uri": "https://localhost:8080/"
        },
        "id": "82lKFf-HX_EC",
        "outputId": "6f719b0e-b12a-412e-bffc-2a5181b203ee"
      },
      "outputs": [],
      "source": [
        "plt.figure(figsize=(10,8))\n",
        "\n",
        "sns.barplot(y=\"Employee_name\", x=\"Counts\", data=top_20, palette=\"Blues_d\")\n",
        "plt.title(\"Top 20 highest email sender employee\")\n",
        "plt.xlabel(\"Count\")\n",
        "plt.ylabel(\"Employee_name\")\n",
        "plt.show()"
      ]
    },
    {
      "cell_type": "markdown",
      "metadata": {
        "id": "o6DVsGauX_ED"
      },
      "source": [
        "## Data Cleaning and Transformation"
      ]
    },
    {
      "cell_type": "markdown",
      "metadata": {
        "id": "XkIla0laX_ED"
      },
      "source": [
        "**date : column**"
      ]
    },
    {
      "cell_type": "code",
      "execution_count": null,
      "metadata": {
        "colab": {
          "base_uri": "https://localhost:8080/"
        },
        "id": "vCcCcr9JX_ED",
        "outputId": "a87be829-44c1-4ab0-a928-e018495a86d1"
      },
      "outputs": [],
      "source": [
        "import datetime\n",
        "from dateutil import parser\n",
        "\n",
        "# this is sample example\n",
        "x = parser.parse(\"Fri, 4 May 2001 13:51:00 -0700 (PDT)\")\n",
        "print(x.strftime(\"%d-%m-%Y %H:%M:%S\"))"
      ]
    },
    {
      "cell_type": "code",
      "execution_count": null,
      "metadata": {
        "colab": {
          "base_uri": "https://localhost:8080/",
          "height": 208
        },
        "id": "iYzowq7fX_ED",
        "outputId": "c02cae2b-03b4-4e41-f583-57d77a24d866"
      },
      "outputs": [],
      "source": [
        "def change_type(dates):\n",
        "    column = []\n",
        "    \n",
        "    for date in dates:\n",
        "        column.append(parser.parse(date).strftime(\"%d-%m-%Y %H:%M:%S\"))\n",
        "    return column\n",
        "\n",
        "df['date'] = change_type(df['date'])\n",
        "df.head(2)"
      ]
    },
    {
      "cell_type": "markdown",
      "metadata": {
        "id": "7WWnpxSQX_ED"
      },
      "source": [
        "**Column : X-Folder**"
      ]
    },
    {
      "cell_type": "code",
      "execution_count": null,
      "metadata": {
        "colab": {
          "base_uri": "https://localhost:8080/",
          "height": 53
        },
        "id": "BSP3gAgAX_ED",
        "outputId": "1fb86ab5-0d27-4f17-e753-6b510fb4fe15"
      },
      "outputs": [],
      "source": [
        "print(df['X-Folder'][0])\n",
        "\n",
        "# we only want last folder name\n",
        "df['X-Folder'][0].split(\"\\\\\")[-1]"
      ]
    },
    {
      "cell_type": "code",
      "execution_count": null,
      "metadata": {
        "colab": {
          "base_uri": "https://localhost:8080/",
          "height": 208
        },
        "id": "KBN08EblX_ED",
        "outputId": "ac6a52cd-eb09-4709-fdc9-838ff019a9cd"
      },
      "outputs": [],
      "source": [
        "def preprocess_folder(folders):\n",
        "    column = []\n",
        "    for folder in folders:\n",
        "        if (folder is None or folder == \"\"):\n",
        "            column.append(np.nan)\n",
        "        else:\n",
        "            column.append(folder.split(\"\\\\\")[-1].lower())\n",
        "    return column\n",
        "\n",
        "df['X-Folder'] = preprocess_folder(df['X-Folder'])\n",
        "df.head(2)"
      ]
    },
    {
      "cell_type": "code",
      "execution_count": null,
      "metadata": {
        "colab": {
          "base_uri": "https://localhost:8080/"
        },
        "id": "2YJlRqCPX_EE",
        "outputId": "d5fcfe1a-a83e-42c7-ff77-894a4b7484d0"
      },
      "outputs": [],
      "source": [
        "# count unique folders\n",
        "print(\"Unique Foldes: \", len(df['X-Folder'].unique()))\n",
        "\n",
        "# view some of them\n",
        "df['X-Folder'].unique()[0:20]"
      ]
    },
    {
      "cell_type": "markdown",
      "metadata": {
        "id": "XQrC-CDdX_EE"
      },
      "source": [
        "**Replace empty missing values in subject with np.nan**"
      ]
    },
    {
      "cell_type": "code",
      "execution_count": null,
      "metadata": {
        "id": "UV38aRddX_EE"
      },
      "outputs": [],
      "source": [
        "def replace_empty_with_nan(subject):\n",
        "    column = []\n",
        "    for val in subject:\n",
        "        if (val == \"\"):\n",
        "            column.append(np.nan) \n",
        "        else:\n",
        "            column.append(val)\n",
        "    return column"
      ]
    },
    {
      "cell_type": "code",
      "execution_count": null,
      "metadata": {
        "id": "q8p172SXX_EE"
      },
      "outputs": [],
      "source": [
        "df['subject'] = replace_empty_with_nan(df['subject'])\n",
        "df['X-To'] = replace_empty_with_nan(df['X-To'])"
      ]
    },
    {
      "cell_type": "code",
      "execution_count": null,
      "metadata": {
        "colab": {
          "base_uri": "https://localhost:8080/"
        },
        "id": "aQnj8B3QX_EE",
        "outputId": "1f4497c6-e7e6-4c29-e4ec-bde9fc150ab8"
      },
      "outputs": [],
      "source": [
        "df.isnull().sum()"
      ]
    },
    {
      "cell_type": "code",
      "execution_count": null,
      "metadata": {
        "colab": {
          "base_uri": "https://localhost:8080/"
        },
        "id": "5FMLaMGjX_EF",
        "outputId": "871f7841-9990-4413-93ac-ec80f8be3718"
      },
      "outputs": [],
      "source": [
        "# calculate percentage of missing values\n",
        "miss = df.isnull().sum()\n",
        "miss = miss[miss>0]\n",
        "miss = miss / df.shape[0]\n",
        "miss"
      ]
    },
    {
      "cell_type": "code",
      "execution_count": null,
      "metadata": {
        "id": "w0zlooLMX_EF"
      },
      "outputs": [],
      "source": [
        "# drop missing value rows\n",
        "df.dropna(axis=0, inplace=True)"
      ]
    },
    {
      "cell_type": "code",
      "execution_count": null,
      "metadata": {
        "colab": {
          "base_uri": "https://localhost:8080/"
        },
        "id": "LbTwwFmaX_EF",
        "outputId": "5ad59a65-ad66-4cbc-8d1c-4b37e0ba8197"
      },
      "outputs": [],
      "source": [
        "df.isnull().sum(), df.shape"
      ]
    },
    {
      "cell_type": "code",
      "execution_count": null,
      "metadata": {
        "colab": {
          "base_uri": "https://localhost:8080/",
          "height": 257
        },
        "id": "Q06vutYoX_EF",
        "outputId": "e65c5c59-9571-4929-e660-ef97e7fa3f59"
      },
      "outputs": [],
      "source": [
        "df.head(3)"
      ]
    },
    {
      "cell_type": "markdown",
      "metadata": {
        "id": "7p2BYaSIX_EF"
      },
      "source": [
        "Drop the following columns:\n",
        "- file\n",
        "- message\n",
        "- date\n",
        "- X-From\n",
        "- X-To"
      ]
    },
    {
      "cell_type": "code",
      "execution_count": null,
      "metadata": {
        "id": "jcn1JnGBX_EF"
      },
      "outputs": [],
      "source": [
        "cols_to_drop = ['file','message','date', 'X-From', 'X-To']"
      ]
    },
    {
      "cell_type": "code",
      "execution_count": null,
      "metadata": {
        "id": "umqlN8t4X_EF"
      },
      "outputs": [],
      "source": [
        "df.drop(cols_to_drop, axis=1, inplace=True)"
      ]
    },
    {
      "cell_type": "code",
      "execution_count": null,
      "metadata": {
        "colab": {
          "base_uri": "https://localhost:8080/",
          "height": 206
        },
        "id": "6N7tYItEX_EF",
        "outputId": "7f9beecd-fcd9-4874-9dab-d401b99edb58"
      },
      "outputs": [],
      "source": [
        "df.head()"
      ]
    },
    {
      "cell_type": "code",
      "execution_count": null,
      "metadata": {
        "colab": {
          "base_uri": "https://localhost:8080/",
          "height": 424
        },
        "id": "gihj6IOghnGo",
        "outputId": "5a8a4f61-b6ce-491c-9f3e-104d78c14463"
      },
      "outputs": [],
      "source": [
        "df"
      ]
    },
    {
      "cell_type": "code",
      "execution_count": null,
      "metadata": {
        "colab": {
          "base_uri": "https://localhost:8080/"
        },
        "id": "xiAxspBNxUbl",
        "outputId": "6c8e0e01-17c6-4b84-c484-08c19ce189b5"
      },
      "outputs": [],
      "source": [
        "df = df[df.employee != \"arora-h\"][df.employee != \"badeer-r\"][df.employee != \"bailey-s\"][df.employee != \"benson-r\"][df.employee != \"causholli-m\"][df.employee != \"crandell-s\"][df.employee != \"dickson-s\"][df.employee != \"forney-j\"][df.employee != \"gang-l\"][df.employee != \"gilbertsmith-d\"][df.employee != \"harris-s\"][df.employee != \"hendrickson-s\"][df.employee != \"holst-k\"][df.employee != \"king-j\"][df.employee != \"lucci-p\"][df.employee != \"mccarty-d\"][df.employee != \"mckay-b\"][df.employee != \"mckay-j\"][df.employee != \"motley-m\"][df.employee != \"panus-s\"][df.employee != \"pereira-s\"][df.employee != \"phanis-s\"][df.employee != \"pimenov-v\"][df.employee != \"platter-p\"][df.employee != \"quenet-j\"][df.employee != \"rapp-b\"][df.employee != \"reitmeyer-j\"][df.employee != \"richey-c\"][df.employee != \"ring-a\"][df.employee != \"ring-r\"][df.employee != \"sanchez-m\"][df.employee != \"scholtes-d\"][df.employee != \"schwieger-j\"][df.employee != \"semperger-c\"][df.employee != \"slinger-r\"][df.employee != \"south-s\"][df.employee != \"staab-t\"][df.employee != \"swerzbin-m\"][df.employee != \"townsend-j\"][df.employee != \"whitt-m\"][df.employee != \"zufferli-j\"]"
      ]
    },
    {
      "cell_type": "code",
      "execution_count": null,
      "metadata": {
        "colab": {
          "base_uri": "https://localhost:8080/",
          "height": 424
        },
        "id": "pYa8LreZqfko",
        "outputId": "e0eabe1b-e1f5-4570-ff08-6a16ad022a69"
      },
      "outputs": [],
      "source": [
        "df"
      ]
    },
    {
      "cell_type": "code",
      "execution_count": null,
      "metadata": {
        "id": "WuRwDLTTX_EG"
      },
      "outputs": [],
      "source": [
        "# save the data\n",
        "df.to_csv(\"cleaned_data.csv\", index=False)"
      ]
    },
    {
      "cell_type": "markdown",
      "metadata": {
        "id": "l3GmkDlXUVd4"
      },
      "source": [
        "# Doc2Vec"
      ]
    },
    {
      "cell_type": "code",
      "execution_count": 1,
      "metadata": {
        "id": "JjE4HOgwX_EG"
      },
      "outputs": [],
      "source": [
        "import csv\n",
        "import sys\n",
        "maxInt = sys.maxsize\n",
        "\n",
        "while True:\n",
        "    try:\n",
        "        csv.field_size_limit(maxInt)\n",
        "        break\n",
        "    except OverflowError:\n",
        "        maxInt = int(maxInt/10)\n",
        "\n",
        "import numpy as np \n",
        "import pandas as pd \n",
        "import gensim\n",
        "import gensim.downloader as api\n",
        "from gensim.models.doc2vec import TaggedDocument, Doc2Vec \n",
        "from gensim.test.utils import get_tmpfile\n",
        "\n",
        "from gensim.test.utils import common_texts\n",
        "from gensim.models.doc2vec import Doc2Vec, TaggedDocument\n",
        "from sklearn.metrics import accuracy_score, f1_score\n",
        "from sklearn.model_selection import train_test_split\n",
        "from sklearn.linear_model import LogisticRegression\n",
        "from sklearn import utils\n",
        "\n",
        "import random\n",
        "\n",
        "from tqdm import tqdm\n",
        "import multiprocessing\n",
        "import nltk\n",
        "from nltk.corpus import stopwords\n"
      ]
    },
    {
      "cell_type": "code",
      "execution_count": 2,
      "metadata": {
        "colab": {
          "base_uri": "https://localhost:8080/",
          "height": 424
        },
        "id": "ZmL8AvngeKid",
        "outputId": "bb1a9955-0c51-4181-9324-c5d70ba3aba2"
      },
      "outputs": [],
      "source": [
        "df = pd.read_csv(\"/Users/USER/Desktop/project/cleaned_data.csv\")"
      ]
    },
    {
      "cell_type": "code",
      "execution_count": 3,
      "metadata": {
        "id": "j4lTd-vcfV-V"
      },
      "outputs": [
        {
          "data": {
            "text/html": [
              "<div>\n",
              "<style scoped>\n",
              "    .dataframe tbody tr th:only-of-type {\n",
              "        vertical-align: middle;\n",
              "    }\n",
              "\n",
              "    .dataframe tbody tr th {\n",
              "        vertical-align: top;\n",
              "    }\n",
              "\n",
              "    .dataframe thead th {\n",
              "        text-align: right;\n",
              "    }\n",
              "</style>\n",
              "<table border=\"1\" class=\"dataframe\">\n",
              "  <thead>\n",
              "    <tr style=\"text-align: right;\">\n",
              "      <th></th>\n",
              "      <th>subject</th>\n",
              "      <th>X-Folder</th>\n",
              "      <th>body</th>\n",
              "      <th>employee</th>\n",
              "    </tr>\n",
              "  </thead>\n",
              "  <tbody>\n",
              "    <tr>\n",
              "      <th>0</th>\n",
              "      <td>Re:</td>\n",
              "      <td>'sent mail</td>\n",
              "      <td>Traveling to have a business meeting takes the...</td>\n",
              "      <td>allen-p</td>\n",
              "    </tr>\n",
              "    <tr>\n",
              "      <th>1</th>\n",
              "      <td>Re: test</td>\n",
              "      <td>'sent mail</td>\n",
              "      <td>test successful.  way to go!!!</td>\n",
              "      <td>allen-p</td>\n",
              "    </tr>\n",
              "    <tr>\n",
              "      <th>2</th>\n",
              "      <td>Re: Hello</td>\n",
              "      <td>'sent mail</td>\n",
              "      <td>Let's shoot for Tuesday at 11:45.</td>\n",
              "      <td>allen-p</td>\n",
              "    </tr>\n",
              "    <tr>\n",
              "      <th>3</th>\n",
              "      <td>Re: Hello</td>\n",
              "      <td>'sent mail</td>\n",
              "      <td>Greg,\\n\\n How about either next Tuesday or Thu...</td>\n",
              "      <td>allen-p</td>\n",
              "    </tr>\n",
              "    <tr>\n",
              "      <th>4</th>\n",
              "      <td>Re: PRC review - phone calls</td>\n",
              "      <td>'sent mail</td>\n",
              "      <td>any morning between 10 and 11:30</td>\n",
              "      <td>allen-p</td>\n",
              "    </tr>\n",
              "    <tr>\n",
              "      <th>...</th>\n",
              "      <td>...</td>\n",
              "      <td>...</td>\n",
              "      <td>...</td>\n",
              "      <td>...</td>\n",
              "    </tr>\n",
              "    <tr>\n",
              "      <th>465935</th>\n",
              "      <td>Accenture Deal Points</td>\n",
              "      <td>tss</td>\n",
              "      <td>Attached is the document that will serve as th...</td>\n",
              "      <td>zipper-a</td>\n",
              "    </tr>\n",
              "    <tr>\n",
              "      <th>465936</th>\n",
              "      <td>Licensing Agreement</td>\n",
              "      <td>tss</td>\n",
              "      <td>\\nAt the request of  Travis McCullough, I am f...</td>\n",
              "      <td>zipper-a</td>\n",
              "    </tr>\n",
              "    <tr>\n",
              "      <th>465937</th>\n",
              "      <td>Licensing Agreement</td>\n",
              "      <td>tss</td>\n",
              "      <td>Attached for your review is a revised draft of...</td>\n",
              "      <td>zipper-a</td>\n",
              "    </tr>\n",
              "    <tr>\n",
              "      <th>465938</th>\n",
              "      <td>RE: Accenture Agreement</td>\n",
              "      <td>tss</td>\n",
              "      <td>Sorry for the delay in responding.  I needed t...</td>\n",
              "      <td>zipper-a</td>\n",
              "    </tr>\n",
              "    <tr>\n",
              "      <th>465939</th>\n",
              "      <td>Transaction Support Hub</td>\n",
              "      <td>tss</td>\n",
              "      <td>Resending......I think I screwed up the first ...</td>\n",
              "      <td>zipper-a</td>\n",
              "    </tr>\n",
              "  </tbody>\n",
              "</table>\n",
              "<p>465940 rows × 4 columns</p>\n",
              "</div>"
            ],
            "text/plain": [
              "                             subject    X-Folder  \\\n",
              "0                                Re:  'sent mail   \n",
              "1                           Re: test  'sent mail   \n",
              "2                          Re: Hello  'sent mail   \n",
              "3                          Re: Hello  'sent mail   \n",
              "4       Re: PRC review - phone calls  'sent mail   \n",
              "...                              ...         ...   \n",
              "465935         Accenture Deal Points         tss   \n",
              "465936           Licensing Agreement         tss   \n",
              "465937           Licensing Agreement         tss   \n",
              "465938       RE: Accenture Agreement         tss   \n",
              "465939       Transaction Support Hub         tss   \n",
              "\n",
              "                                                     body  employee  \n",
              "0       Traveling to have a business meeting takes the...   allen-p  \n",
              "1                          test successful.  way to go!!!   allen-p  \n",
              "2                     Let's shoot for Tuesday at 11:45.     allen-p  \n",
              "3       Greg,\\n\\n How about either next Tuesday or Thu...   allen-p  \n",
              "4                        any morning between 10 and 11:30   allen-p  \n",
              "...                                                   ...       ...  \n",
              "465935  Attached is the document that will serve as th...  zipper-a  \n",
              "465936  \\nAt the request of  Travis McCullough, I am f...  zipper-a  \n",
              "465937  Attached for your review is a revised draft of...  zipper-a  \n",
              "465938  Sorry for the delay in responding.  I needed t...  zipper-a  \n",
              "465939  Resending......I think I screwed up the first ...  zipper-a  \n",
              "\n",
              "[465940 rows x 4 columns]"
            ]
          },
          "execution_count": 3,
          "metadata": {},
          "output_type": "execute_result"
        }
      ],
      "source": [
        "df "
      ]
    },
    {
      "cell_type": "code",
      "execution_count": 3,
      "metadata": {},
      "outputs": [],
      "source": [
        "employee = df['employee']\n",
        "def dupli(x):\n",
        "    return list(dict.fromkeys(x))\n",
        "employee = dupli(employee)"
      ]
    },
    {
      "cell_type": "code",
      "execution_count": 4,
      "metadata": {},
      "outputs": [
        {
          "data": {
            "text/plain": [
              "['allen-p',\n",
              " 'arnold-j',\n",
              " 'bass-e',\n",
              " 'baughman-d',\n",
              " 'beck-s',\n",
              " 'blair-l',\n",
              " 'brawner-s',\n",
              " 'buy-r',\n",
              " 'campbell-l',\n",
              " 'carson-m',\n",
              " 'cash-m',\n",
              " 'corman-s',\n",
              " 'cuilla-m',\n",
              " 'dasovich-j',\n",
              " 'davis-d',\n",
              " 'dean-c',\n",
              " 'delainey-d',\n",
              " 'derrick-j',\n",
              " 'donoho-l',\n",
              " 'donohoe-t',\n",
              " 'dorland-c',\n",
              " 'ermis-f',\n",
              " 'farmer-d',\n",
              " 'fischer-m',\n",
              " 'fossum-d',\n",
              " 'gay-r',\n",
              " 'geaccone-t',\n",
              " 'germany-c',\n",
              " 'giron-d',\n",
              " 'griffith-j',\n",
              " 'grigsby-m',\n",
              " 'guzman-m',\n",
              " 'haedicke-m',\n",
              " 'hain-m',\n",
              " 'hayslett-r',\n",
              " 'heard-m',\n",
              " 'hernandez-j',\n",
              " 'hodge-j',\n",
              " 'horton-s',\n",
              " 'hyatt-k',\n",
              " 'hyvl-d',\n",
              " 'jones-t',\n",
              " 'kaminski-v',\n",
              " 'kean-s',\n",
              " 'keavey-p',\n",
              " 'keiser-k',\n",
              " 'kitchen-l',\n",
              " 'kuykendall-t',\n",
              " 'lavorato-j',\n",
              " 'lay-k',\n",
              " 'lenhart-m',\n",
              " 'lewis-a',\n",
              " 'linder-e',\n",
              " 'lokay-m',\n",
              " 'lokey-t',\n",
              " 'love-p',\n",
              " 'maggi-m',\n",
              " 'mann-k',\n",
              " 'martin-t',\n",
              " 'may-l',\n",
              " 'mcconnell-m',\n",
              " 'mclaughlin-e',\n",
              " 'merriss-s',\n",
              " 'meyers-a',\n",
              " 'mims-thurston-p',\n",
              " 'neal-s',\n",
              " 'nemec-g',\n",
              " 'parks-j',\n",
              " 'perlingiere-d',\n",
              " 'presto-k',\n",
              " 'quigley-d',\n",
              " 'rodrique-r',\n",
              " 'rogers-b',\n",
              " 'ruscitti-k',\n",
              " 'sager-e',\n",
              " 'saibi-e',\n",
              " 'salisbury-h',\n",
              " 'sanders-r',\n",
              " 'schoolcraft-d',\n",
              " 'scott-s',\n",
              " 'shackleton-s',\n",
              " 'shankman-j',\n",
              " 'shapiro-r',\n",
              " 'shively-h',\n",
              " 'skilling-j',\n",
              " 'smith-m',\n",
              " 'solberg-g',\n",
              " 'stclair-c',\n",
              " 'steffes-j',\n",
              " 'stepenovitch-j',\n",
              " 'stokley-c',\n",
              " 'storey-g',\n",
              " 'sturm-f',\n",
              " 'symes-k',\n",
              " 'taylor-m',\n",
              " 'tholt-j',\n",
              " 'thomas-p',\n",
              " 'tycholiz-b',\n",
              " 'ward-k',\n",
              " 'watson-k',\n",
              " 'weldon-c',\n",
              " 'whalley-g',\n",
              " 'whalley-l',\n",
              " 'white-s',\n",
              " 'williams-j',\n",
              " 'williams-w3',\n",
              " 'wolfe-j',\n",
              " 'ybarbo-p',\n",
              " 'zipper-a']"
            ]
          },
          "execution_count": 4,
          "metadata": {},
          "output_type": "execute_result"
        }
      ],
      "source": [
        "employee"
      ]
    },
    {
      "cell_type": "code",
      "execution_count": 4,
      "metadata": {},
      "outputs": [],
      "source": [
        "employee_index = {}\n",
        "index_count = 1\n",
        "for i in employee:\n",
        "    employee_index[i] = index_count\n",
        "    index_count += 1"
      ]
    },
    {
      "cell_type": "code",
      "execution_count": 5,
      "metadata": {},
      "outputs": [
        {
          "data": {
            "text/plain": [
              "{'allen-p': 1,\n",
              " 'arnold-j': 2,\n",
              " 'bass-e': 3,\n",
              " 'baughman-d': 4,\n",
              " 'beck-s': 5,\n",
              " 'blair-l': 6,\n",
              " 'brawner-s': 7,\n",
              " 'buy-r': 8,\n",
              " 'campbell-l': 9,\n",
              " 'carson-m': 10,\n",
              " 'cash-m': 11,\n",
              " 'corman-s': 12,\n",
              " 'cuilla-m': 13,\n",
              " 'dasovich-j': 14,\n",
              " 'davis-d': 15,\n",
              " 'dean-c': 16,\n",
              " 'delainey-d': 17,\n",
              " 'derrick-j': 18,\n",
              " 'donoho-l': 19,\n",
              " 'donohoe-t': 20,\n",
              " 'dorland-c': 21,\n",
              " 'ermis-f': 22,\n",
              " 'farmer-d': 23,\n",
              " 'fischer-m': 24,\n",
              " 'fossum-d': 25,\n",
              " 'gay-r': 26,\n",
              " 'geaccone-t': 27,\n",
              " 'germany-c': 28,\n",
              " 'giron-d': 29,\n",
              " 'griffith-j': 30,\n",
              " 'grigsby-m': 31,\n",
              " 'guzman-m': 32,\n",
              " 'haedicke-m': 33,\n",
              " 'hain-m': 34,\n",
              " 'hayslett-r': 35,\n",
              " 'heard-m': 36,\n",
              " 'hernandez-j': 37,\n",
              " 'hodge-j': 38,\n",
              " 'horton-s': 39,\n",
              " 'hyatt-k': 40,\n",
              " 'hyvl-d': 41,\n",
              " 'jones-t': 42,\n",
              " 'kaminski-v': 43,\n",
              " 'kean-s': 44,\n",
              " 'keavey-p': 45,\n",
              " 'keiser-k': 46,\n",
              " 'kitchen-l': 47,\n",
              " 'kuykendall-t': 48,\n",
              " 'lavorato-j': 49,\n",
              " 'lay-k': 50,\n",
              " 'lenhart-m': 51,\n",
              " 'lewis-a': 52,\n",
              " 'linder-e': 53,\n",
              " 'lokay-m': 54,\n",
              " 'lokey-t': 55,\n",
              " 'love-p': 56,\n",
              " 'maggi-m': 57,\n",
              " 'mann-k': 58,\n",
              " 'martin-t': 59,\n",
              " 'may-l': 60,\n",
              " 'mcconnell-m': 61,\n",
              " 'mclaughlin-e': 62,\n",
              " 'merriss-s': 63,\n",
              " 'meyers-a': 64,\n",
              " 'mims-thurston-p': 65,\n",
              " 'neal-s': 66,\n",
              " 'nemec-g': 67,\n",
              " 'parks-j': 68,\n",
              " 'perlingiere-d': 69,\n",
              " 'presto-k': 70,\n",
              " 'quigley-d': 71,\n",
              " 'rodrique-r': 72,\n",
              " 'rogers-b': 73,\n",
              " 'ruscitti-k': 74,\n",
              " 'sager-e': 75,\n",
              " 'saibi-e': 76,\n",
              " 'salisbury-h': 77,\n",
              " 'sanders-r': 78,\n",
              " 'schoolcraft-d': 79,\n",
              " 'scott-s': 80,\n",
              " 'shackleton-s': 81,\n",
              " 'shankman-j': 82,\n",
              " 'shapiro-r': 83,\n",
              " 'shively-h': 84,\n",
              " 'skilling-j': 85,\n",
              " 'smith-m': 86,\n",
              " 'solberg-g': 87,\n",
              " 'stclair-c': 88,\n",
              " 'steffes-j': 89,\n",
              " 'stepenovitch-j': 90,\n",
              " 'stokley-c': 91,\n",
              " 'storey-g': 92,\n",
              " 'sturm-f': 93,\n",
              " 'symes-k': 94,\n",
              " 'taylor-m': 95,\n",
              " 'tholt-j': 96,\n",
              " 'thomas-p': 97,\n",
              " 'tycholiz-b': 98,\n",
              " 'ward-k': 99,\n",
              " 'watson-k': 100,\n",
              " 'weldon-c': 101,\n",
              " 'whalley-g': 102,\n",
              " 'whalley-l': 103,\n",
              " 'white-s': 104,\n",
              " 'williams-j': 105,\n",
              " 'williams-w3': 106,\n",
              " 'wolfe-j': 107,\n",
              " 'ybarbo-p': 108,\n",
              " 'zipper-a': 109}"
            ]
          },
          "execution_count": 5,
          "metadata": {},
          "output_type": "execute_result"
        }
      ],
      "source": [
        "employee_index"
      ]
    },
    {
      "cell_type": "code",
      "execution_count": 6,
      "metadata": {
        "id": "gVynws58U0YQ"
      },
      "outputs": [],
      "source": [
        "documents = df['body']"
      ]
    },
    {
      "cell_type": "code",
      "execution_count": 8,
      "metadata": {
        "colab": {
          "base_uri": "https://localhost:8080/"
        },
        "id": "JBib-3VuVRH8",
        "outputId": "c9700699-e873-4f82-a1f8-cce47f419773"
      },
      "outputs": [
        {
          "data": {
            "text/plain": [
              "0         Traveling to have a business meeting takes the...\n",
              "1                            test successful.  way to go!!!\n",
              "2                       Let's shoot for Tuesday at 11:45.  \n",
              "3         Greg,\\n\\n How about either next Tuesday or Thu...\n",
              "4                          any morning between 10 and 11:30\n",
              "                                ...                        \n",
              "465935    Attached is the document that will serve as th...\n",
              "465936    \\nAt the request of  Travis McCullough, I am f...\n",
              "465937    Attached for your review is a revised draft of...\n",
              "465938    Sorry for the delay in responding.  I needed t...\n",
              "465939    Resending......I think I screwed up the first ...\n",
              "Name: body, Length: 465940, dtype: object"
            ]
          },
          "execution_count": 8,
          "metadata": {},
          "output_type": "execute_result"
        }
      ],
      "source": [
        "documents"
      ]
    },
    {
      "cell_type": "code",
      "execution_count": 7,
      "metadata": {
        "id": "sAqmhHXmYbg_"
      },
      "outputs": [],
      "source": [
        "data = [d for d in documents]"
      ]
    },
    {
      "cell_type": "code",
      "execution_count": null,
      "metadata": {
        "colab": {
          "base_uri": "https://localhost:8080/"
        },
        "id": "KzmVCtcjYu3-",
        "outputId": "189e4c20-83b7-458f-b26f-0fd2b0dd9799"
      },
      "outputs": [],
      "source": [
        "data"
      ]
    },
    {
      "cell_type": "code",
      "execution_count": 8,
      "metadata": {
        "colab": {
          "base_uri": "https://localhost:8080/"
        },
        "id": "X1WxCa_6ZAdz",
        "outputId": "7c411e64-2a4b-4aa1-ffad-bf76ac0ba633"
      },
      "outputs": [
        {
          "name": "stdout",
          "output_type": "stream",
          "text": [
            "465940\n"
          ]
        }
      ],
      "source": [
        "print(len(data))"
      ]
    },
    {
      "cell_type": "code",
      "execution_count": 9,
      "metadata": {
        "colab": {
          "base_uri": "https://localhost:8080/",
          "height": 105
        },
        "id": "uArhUDxKZEtz",
        "outputId": "87fafc36-f79d-43ba-a895-acb8b366fbe7"
      },
      "outputs": [
        {
          "data": {
            "text/plain": [
              "\"Traveling to have a business meeting takes the fun out of the trip.  Especially if you have to prepare a presentation.  I would suggest holding the business plan meetings here then take a trip without any formal business meetings.  I would even try and get some honest opinions on whether a trip is even desired or necessary.\\n\\nAs far as the business meetings, I think it would be more productive to try and stimulate discussions across the different groups about what is working and what is not.  Too often the presenter speaks and the others are quiet just waiting for their turn.   The meetings might be better if held in a round table discussion format.  \\n\\nMy suggestion for where to go is Austin.  Play golf and rent a ski boat and jet ski's.  Flying somewhere takes too much time.\\n\""
            ]
          },
          "execution_count": 9,
          "metadata": {},
          "output_type": "execute_result"
        }
      ],
      "source": [
        "data[0]"
      ]
    },
    {
      "cell_type": "code",
      "execution_count": 24,
      "metadata": {
        "colab": {
          "base_uri": "https://localhost:8080/",
          "height": 36
        },
        "id": "0Qd2V60qZIZC",
        "outputId": "b6f5df1b-c1dd-4afa-fba6-817085374724"
      },
      "outputs": [
        {
          "data": {
            "text/plain": [
              "'test successful.  way to go!!!'"
            ]
          },
          "execution_count": 24,
          "metadata": {},
          "output_type": "execute_result"
        }
      ],
      "source": [
        "data[1]"
      ]
    },
    {
      "cell_type": "code",
      "execution_count": 22,
      "metadata": {},
      "outputs": [],
      "source": [
        "tqdm.pandas(desc=\"progress-bar\")\n",
        "# Function for tokenizing\n",
        "def tokenize_text(text):\n",
        "    tokens = []\n",
        "    for sent in nltk.sent_tokenize(text):\n",
        "        for word in nltk.word_tokenize(sent):\n",
        "            if len(word) < 2:\n",
        "                continue\n",
        "            tokens.append(word.lower())\n",
        "    return tokens\n",
        "# Initializing the variables\n",
        "train_documents = []\n",
        "test_documents = []\n",
        "i = 0\n",
        "# Associating the tags(labels) with numbers\n",
        "#tags_index = {'sci-fi': 1 , 'action': 2, 'comedy': 3, 'fantasy': 4, 'animation': 5, 'romance': 6}\n",
        "#Reading the file\n",
        "FILEPATH = '/Users/USER/Desktop/project/cleaned_data.csv'\n",
        "with open(FILEPATH, 'r') as csvfile:\n",
        "    with open('/Users/USER/Desktop/project/cleaned_data.csv', 'r') as csvfile:\n",
        "        body = csv.reader(csvfile, delimiter=',', quotechar='\"')\n",
        "        for row in body:\n",
        "            if i == 0:\n",
        "                i+=1\n",
        "            else:\n",
        "                train_documents.append(TaggedDocument(words=tokenize_text(row[2]), tags=[employee_index.get(row[3], 8)] ))\n"
      ]
    },
    {
      "cell_type": "code",
      "execution_count": 23,
      "metadata": {},
      "outputs": [
        {
          "data": {
            "text/plain": [
              "1"
            ]
          },
          "execution_count": 23,
          "metadata": {},
          "output_type": "execute_result"
        }
      ],
      "source": [
        "train_documents[1].tags[0]"
      ]
    },
    {
      "cell_type": "code",
      "execution_count": 13,
      "metadata": {},
      "outputs": [],
      "source": [
        "for i in train_documents:\n",
        "    if i.tags[0] != 1:\n",
        "        test_documents.append(i)\n"
      ]
    },
    {
      "cell_type": "code",
      "execution_count": 13,
      "metadata": {},
      "outputs": [
        {
          "data": {
            "text/plain": [
              "463768"
            ]
          },
          "execution_count": 13,
          "metadata": {},
          "output_type": "execute_result"
        }
      ],
      "source": [
        "len(test_documents)"
      ]
    },
    {
      "cell_type": "code",
      "execution_count": 24,
      "metadata": {},
      "outputs": [],
      "source": [
        "train1 = []\n",
        "train2 = []"
      ]
    },
    {
      "cell_type": "code",
      "execution_count": 25,
      "metadata": {},
      "outputs": [],
      "source": [
        "hold_temp = []\n",
        "hold_temp = train_documents"
      ]
    },
    {
      "cell_type": "code",
      "execution_count": 26,
      "metadata": {},
      "outputs": [
        {
          "data": {
            "text/plain": [
              "TaggedDocument(words=['test', 'successful', 'way', 'to', 'go'], tags=[1])"
            ]
          },
          "execution_count": 26,
          "metadata": {},
          "output_type": "execute_result"
        }
      ],
      "source": [
        "hold_temp[1]"
      ]
    },
    {
      "cell_type": "code",
      "execution_count": 27,
      "metadata": {},
      "outputs": [],
      "source": [
        "train_documents = []\n",
        "for i in hold_temp:\n",
        "    if i.tags[0] == 1:\n",
        "        train1.append(i)"
      ]
    },
    {
      "cell_type": "code",
      "execution_count": 28,
      "metadata": {},
      "outputs": [],
      "source": [
        "for i in hold_temp:\n",
        "    if i.tags[0] == 2:\n",
        "        train2.append(i)"
      ]
    },
    {
      "cell_type": "code",
      "execution_count": 33,
      "metadata": {},
      "outputs": [
        {
          "data": {
            "text/plain": [
              "1672"
            ]
          },
          "execution_count": 33,
          "metadata": {},
          "output_type": "execute_result"
        }
      ],
      "source": [
        "len(train1)"
      ]
    },
    {
      "cell_type": "code",
      "execution_count": 34,
      "metadata": {},
      "outputs": [
        {
          "data": {
            "text/plain": [
              "2827"
            ]
          },
          "execution_count": 34,
          "metadata": {},
          "output_type": "execute_result"
        }
      ],
      "source": [
        "len(train2)"
      ]
    },
    {
      "cell_type": "code",
      "execution_count": 31,
      "metadata": {},
      "outputs": [],
      "source": [
        "for i in range(500):\n",
        "    test_documents.append(train1.pop(random.randrange(len(train1))))\n",
        "for i in range(1000):\n",
        "    test_documents.append(train2.pop(random.randrange(len(train2))))"
      ]
    },
    {
      "cell_type": "code",
      "execution_count": 17,
      "metadata": {},
      "outputs": [],
      "source": [
        "final_test_document = []\n",
        "for i in range(300):\n",
        "    final_test_document.append(train_documents.pop(random.randrange(len(train_documents))))\n",
        "for i in range(300):\n",
        "    final_test_document.append(test_documents.pop(random.randrange(len(test_documents))))"
      ]
    },
    {
      "cell_type": "code",
      "execution_count": 32,
      "metadata": {},
      "outputs": [
        {
          "data": {
            "text/plain": [
              "1500"
            ]
          },
          "execution_count": 32,
          "metadata": {},
          "output_type": "execute_result"
        }
      ],
      "source": [
        "len(test_documents)"
      ]
    },
    {
      "cell_type": "code",
      "execution_count": 35,
      "metadata": {},
      "outputs": [],
      "source": [
        "train_documents = train1 + train2"
      ]
    },
    {
      "cell_type": "code",
      "execution_count": 36,
      "metadata": {},
      "outputs": [
        {
          "data": {
            "text/plain": [
              "4499"
            ]
          },
          "execution_count": 36,
          "metadata": {},
          "output_type": "execute_result"
        }
      ],
      "source": [
        "len(train_documents)"
      ]
    },
    {
      "cell_type": "code",
      "execution_count": 37,
      "metadata": {},
      "outputs": [
        {
          "name": "stderr",
          "output_type": "stream",
          "text": [
            "100%|██████████| 4499/4499 [00:00<00:00, 1503479.70it/s]\n"
          ]
        }
      ],
      "source": [
        "cores = multiprocessing.cpu_count()\n",
        "\n",
        "model_dbow = Doc2Vec(dm=1, vector_size=300, negative=5, hs=0, min_count=2, sample = 0, workers=cores, alpha=0.025, min_alpha=0.001)\n",
        "model_dbow.build_vocab([x for x in tqdm(train_documents)])\n",
        "train_documents  = utils.shuffle(train_documents)\n",
        "model_dbow.train(train_documents,total_examples=len(train_documents), epochs=30)\n"
      ]
    },
    {
      "cell_type": "code",
      "execution_count": 38,
      "metadata": {},
      "outputs": [],
      "source": [
        "def vector_for_learning(model, input_docs):\n",
        "    sents = input_docs\n",
        "    targets, feature_vectors = zip(*[(doc.tags[0], model.infer_vector(doc.words)) for doc in sents])\n",
        "    return targets, feature_vectors"
      ]
    },
    {
      "cell_type": "code",
      "execution_count": 40,
      "metadata": {},
      "outputs": [
        {
          "name": "stdout",
          "output_type": "stream",
          "text": [
            "Testing accuracy0.8846666666666667\n",
            "Testing F1 score: 0.8856372626800568\n"
          ]
        },
        {
          "name": "stderr",
          "output_type": "stream",
          "text": [
            "c:\\Users\\USER\\AppData\\Local\\Programs\\Python\\Python39\\lib\\site-packages\\sklearn\\linear_model\\_logistic.py:444: ConvergenceWarning: lbfgs failed to converge (status=1):\n",
            "STOP: TOTAL NO. of ITERATIONS REACHED LIMIT.\n",
            "\n",
            "Increase the number of iterations (max_iter) or scale the data as shown in:\n",
            "    https://scikit-learn.org/stable/modules/preprocessing.html\n",
            "Please also refer to the documentation for alternative solver options:\n",
            "    https://scikit-learn.org/stable/modules/linear_model.html#logistic-regression\n",
            "  n_iter_i = _check_optimize_result(\n"
          ]
        }
      ],
      "source": [
        "y_train, X_train = vector_for_learning(model_dbow, train_documents)\n",
        "y_test, X_test = vector_for_learning(model_dbow, test_documents)\n",
        "\n",
        "logreg = LogisticRegression(n_jobs=1, C=1e5)\n",
        "logreg.fit(X_train, y_train)\n",
        "y_pred = logreg.predict(X_test)\n",
        "print('Testing accuracy %s' % accuracy_score(y_test, y_pred))\n",
        "print('Testing F1 score: {}'.format(f1_score(y_test, y_pred, average='weighted')))"
      ]
    },
    {
      "cell_type": "code",
      "execution_count": 12,
      "metadata": {
        "colab": {
          "base_uri": "https://localhost:8080/"
        },
        "id": "nyndVDtJtgCg",
        "outputId": "d06438cc-b111-488d-f3f0-9987db63da4a"
      },
      "outputs": [
        {
          "name": "stderr",
          "output_type": "stream",
          "text": [
            "[nltk_data] Downloading package punkt to\n",
            "[nltk_data]     C:\\Users\\USER\\AppData\\Roaming\\nltk_data...\n",
            "[nltk_data]   Package punkt is already up-to-date!\n"
          ]
        }
      ],
      "source": [
        "nltk.download('punkt')\n",
        "all_data = []\n",
        "for sentence in data:\n",
        "  one_data = nltk.word_tokenize(sentence)\n",
        "  all_data.append(one_data)"
      ]
    },
    {
      "cell_type": "code",
      "execution_count": 23,
      "metadata": {
        "id": "9q9kj-CdZKmT"
      },
      "outputs": [],
      "source": [
        "def tagged_document(list_of_list_of_words):\n",
        "  for i, list_of_words in enumerate(list_of_list_of_words):\n",
        "    yield gensim.models.doc2vec.TaggedDocument(list_of_words, [i])\n",
        "\n",
        "data_for_training = list(tagged_document(all_data))\n",
        "# print(data_for_training[:100])\n",
        "\n",
        "model = gensim.models.doc2vec.Doc2Vec(vector_size = 300, min_count=2, epochs = 10)\n",
        "model.build_vocab(data_for_training)"
      ]
    },
    {
      "cell_type": "code",
      "execution_count": null,
      "metadata": {
        "id": "hzKxbx-fgK3j"
      },
      "outputs": [],
      "source": [
        "model.train(data_for_training, total_examples=model.corpus_count, epochs=model.epochs)"
      ]
    },
    {
      "cell_type": "code",
      "execution_count": 26,
      "metadata": {
        "id": "4kJTqwrCx20H"
      },
      "outputs": [
        {
          "data": {
            "text/plain": [
              "TaggedDocument(words=['Greg', ',', 'How', 'about', 'either', 'next', 'Tuesday', 'or', 'Thursday', '?', 'Phillip'], tags=[3])"
            ]
          },
          "execution_count": 26,
          "metadata": {},
          "output_type": "execute_result"
        }
      ],
      "source": [
        "data_for_training[3]"
      ]
    },
    {
      "cell_type": "code",
      "execution_count": 15,
      "metadata": {
        "id": "ozHs959AyX-3"
      },
      "outputs": [
        {
          "name": "stderr",
          "output_type": "stream",
          "text": [
            "C:\\Users\\USER\\AppData\\Local\\Temp\\ipykernel_26728\\4114686976.py:1: DeprecationWarning: Call to deprecated `docvecs` (The `docvecs` property has been renamed `dv`.).\n",
            "  model.docvecs[462738]\n"
          ]
        },
        {
          "data": {
            "text/plain": [
              "array([-2.07089204e-02, -5.45915842e-01, -1.16873562e-01, -2.10034162e-01,\n",
              "        7.95039311e-02,  2.65169758e-02, -5.76359183e-02,  1.80075526e-01,\n",
              "        5.67163415e-02, -9.97347534e-02,  1.01480938e-01, -9.94654968e-02,\n",
              "        6.72458947e-01,  5.13300776e-01, -5.04152298e-01,  5.94831072e-02,\n",
              "        3.13416839e-01, -1.79293811e-01, -2.80299127e-01,  1.62524104e-01,\n",
              "        3.45085450e-02, -4.31472033e-01,  8.45711753e-02,  5.19633532e-01,\n",
              "       -1.15027085e-01, -9.65711474e-02,  4.14995164e-01,  4.31038827e-01,\n",
              "       -2.27732956e-01, -4.55580771e-01,  2.93609887e-01, -6.42205551e-02,\n",
              "        2.56475568e-01, -1.02794103e-01, -3.63340825e-01, -4.27139580e-01,\n",
              "        1.81274280e-01, -7.46911857e-03, -2.54485309e-01, -7.01408684e-02,\n",
              "        4.11859393e-01,  2.84865052e-01,  2.87494749e-01, -5.33745885e-01,\n",
              "        3.93379003e-01,  1.40850261e-01,  3.68354656e-02,  3.62937331e-01,\n",
              "        3.11967395e-02,  3.43228072e-01,  3.65518302e-01,  3.04722160e-01,\n",
              "       -1.46203384e-01, -2.99547613e-01, -2.59329706e-01,  3.27954113e-01,\n",
              "       -6.34019792e-01,  2.31452301e-01,  5.15464693e-03,  3.44966024e-01,\n",
              "       -1.97729871e-01, -6.06577277e-01,  4.45112079e-01, -1.86602220e-01,\n",
              "       -4.37285602e-01,  3.33022088e-01, -2.19790041e-02, -2.39406750e-01,\n",
              "        5.30644774e-01,  1.48952752e-01,  1.03413016e-01, -2.61077821e-01,\n",
              "       -2.58703142e-01, -3.51755768e-01,  2.89533436e-01, -1.00232929e-01,\n",
              "       -7.38138631e-02,  6.72762096e-02,  8.65591168e-02,  6.08587936e-02,\n",
              "        1.74319282e-01, -2.28769213e-01,  5.87855101e-01,  5.38546801e-01,\n",
              "       -1.67557076e-01,  2.57158697e-01,  1.70372829e-01,  4.54245389e-01,\n",
              "       -5.46861477e-02, -5.71753681e-02, -2.07587302e-01, -1.88295513e-01,\n",
              "        1.83286712e-01,  2.03062713e-01,  6.85776526e-04, -1.52554633e-02,\n",
              "        1.07691661e-02,  4.04668093e-01, -2.95852244e-01, -4.13260370e-01,\n",
              "        1.44981584e-02, -1.39192358e-01, -3.73362750e-02,  1.15061864e-01,\n",
              "        2.51819015e-01,  1.33326262e-01,  1.25445779e-02, -1.86468169e-01,\n",
              "       -5.69451749e-01,  2.85075903e-01, -3.51301879e-01, -7.55875483e-02,\n",
              "        3.99199843e-01,  4.50048223e-02, -3.98645252e-01,  3.92591029e-01,\n",
              "        3.86871062e-02, -2.78113753e-01, -6.39525950e-02, -5.39425313e-01,\n",
              "       -3.58076781e-01,  7.73274601e-02, -3.36249977e-01,  2.26415232e-01,\n",
              "       -2.01221362e-01, -7.32265785e-02,  5.05846679e-01, -2.10234411e-02,\n",
              "        4.11311537e-02, -8.06631967e-02,  1.05138078e-01, -7.80131072e-02,\n",
              "        3.01658183e-01,  3.05188377e-03,  7.71071434e-01,  2.97633171e-01,\n",
              "       -7.30498834e-03, -8.40858147e-02, -2.83428937e-01, -1.26007944e-01,\n",
              "        3.30579244e-02,  7.76141658e-02,  1.56438962e-01,  2.25972354e-01,\n",
              "       -9.48018432e-02,  1.82000905e-01, -1.90403104e-01,  1.56893715e-01,\n",
              "       -2.05244601e-01,  1.86632872e-01, -4.99908440e-02,  1.07262276e-01,\n",
              "       -1.96835846e-01, -1.10620148e-02,  1.31276548e-01,  6.18660390e-01,\n",
              "       -1.48602230e-02, -3.22096571e-02,  6.90808535e-01,  1.63638756e-01,\n",
              "       -3.43008935e-02, -5.00530154e-02, -1.17507922e-02,  1.69826597e-01,\n",
              "       -2.57750362e-01, -2.94273645e-01, -1.29160747e-01, -2.22557187e-01,\n",
              "       -4.24397469e-01,  4.34084646e-02,  4.37961787e-01, -3.18270326e-01,\n",
              "       -1.10411808e-01,  5.05635858e-01,  2.55887032e-01,  1.17566042e-01,\n",
              "       -1.13703094e-01, -1.78881556e-01,  2.99207211e-01,  3.39315563e-01,\n",
              "        2.53853023e-01, -1.73667371e-01, -1.49400085e-02,  4.34479415e-02,\n",
              "        1.17850892e-01,  4.86822337e-01,  2.06042290e-01,  1.57646075e-01,\n",
              "       -1.21767856e-01, -3.13284248e-01, -4.10863221e-01,  7.45222867e-02,\n",
              "       -1.29241005e-01,  1.45494953e-01,  4.97630596e-01, -4.89202976e-01,\n",
              "       -3.23525995e-01,  3.97925198e-01,  1.55473664e-01, -3.08389366e-01,\n",
              "       -3.47835243e-01, -8.02578628e-02, -5.66215739e-02, -3.42895240e-01,\n",
              "       -3.29592466e-01, -5.48015647e-02, -9.03666392e-02,  1.80875704e-01,\n",
              "       -4.47394937e-01,  3.22772078e-02, -2.90321261e-01,  1.75624564e-01,\n",
              "        1.46388590e-01,  3.55705649e-01,  1.51032135e-01, -2.86947519e-01,\n",
              "       -9.78529334e-01, -2.32230619e-01,  9.34360027e-02, -8.57494250e-02,\n",
              "        4.58698511e-01, -5.39348647e-02,  6.48295403e-01, -1.57667190e-01,\n",
              "       -1.89407572e-01, -2.37248495e-01, -2.48425543e-01, -4.41575795e-01,\n",
              "       -4.24787635e-03,  1.79726571e-01, -1.32462487e-01, -3.09426934e-01,\n",
              "        2.28757620e-01, -1.57512147e-02, -1.28844157e-01,  1.55794695e-01,\n",
              "       -1.82228431e-01,  1.03442758e-01,  2.80632138e-01,  1.25196978e-01,\n",
              "        3.48993152e-01,  6.53416589e-02, -4.36403722e-01,  5.48999272e-02,\n",
              "       -4.98507887e-01, -5.56014121e-01,  1.93466380e-01, -1.17942221e-01,\n",
              "       -3.15896541e-01, -2.00503513e-01, -5.14350653e-01,  1.97705403e-01,\n",
              "        1.96885034e-01, -1.46782398e-01,  1.80080801e-01,  1.31675422e-01,\n",
              "       -5.21283388e-01, -1.36745833e-02, -3.85786891e-01, -4.25360203e-01,\n",
              "        2.85009593e-01,  2.15751231e-01,  6.16366118e-02, -1.63352400e-01,\n",
              "       -1.70094952e-01,  2.64714122e-01,  4.09368604e-01,  2.62085330e-02,\n",
              "       -5.27521789e-01, -2.85763550e-03, -6.08816072e-02,  5.08185700e-02,\n",
              "        2.55529583e-01, -2.25590825e-01,  4.58678275e-01, -7.99577534e-02,\n",
              "        4.43656743e-01,  3.72271121e-01, -7.11156547e-01,  2.70019412e-01,\n",
              "       -6.76187396e-01, -4.51396435e-01,  1.46980047e-01, -1.99060902e-01,\n",
              "        8.77387077e-02, -4.40462112e-01, -5.61126210e-02,  4.64257270e-01,\n",
              "       -1.85043886e-01, -3.65516059e-02,  1.62830532e-01, -1.27218619e-01,\n",
              "        1.65503994e-01, -1.07879899e-01,  3.67052741e-02, -3.85228604e-01,\n",
              "        6.43913805e-01,  2.30915174e-02,  2.60046244e-01,  2.34014153e-01],\n",
              "      dtype=float32)"
            ]
          },
          "execution_count": 15,
          "metadata": {},
          "output_type": "execute_result"
        }
      ],
      "source": [
        "model.docvecs[462738]"
      ]
    },
    {
      "cell_type": "code",
      "execution_count": 16,
      "metadata": {
        "id": "_7qlIiwDyt5A"
      },
      "outputs": [
        {
          "name": "stderr",
          "output_type": "stream",
          "text": [
            "C:\\Users\\USER\\AppData\\Local\\Temp\\ipykernel_26728\\3754858182.py:1: DeprecationWarning: Call to deprecated `docvecs` (The `docvecs` property has been renamed `dv`.).\n",
            "  model.docvecs.most_similar(0)\n"
          ]
        },
        {
          "data": {
            "text/plain": [
              "[(634, 0.9208298325538635),\n",
              " (203, 0.9089654088020325),\n",
              " (1739, 0.8986125588417053),\n",
              " (1954, 0.8816961646080017),\n",
              " (239470, 0.8375118970870972),\n",
              " (334568, 0.6670061945915222),\n",
              " (428356, 0.6592144966125488),\n",
              " (448481, 0.6533142924308777),\n",
              " (433300, 0.6527002453804016),\n",
              " (424653, 0.6518880724906921)]"
            ]
          },
          "execution_count": 16,
          "metadata": {},
          "output_type": "execute_result"
        }
      ],
      "source": [
        "model.docvecs.most_similar(0)"
      ]
    },
    {
      "cell_type": "code",
      "execution_count": 24,
      "metadata": {},
      "outputs": [],
      "source": [
        "model.save(\"/vscode/finalProject/Human-Identification-from-Text-Messages/DataToCSV/doc2vec.h5\")"
      ]
    },
    {
      "cell_type": "code",
      "execution_count": 14,
      "metadata": {},
      "outputs": [],
      "source": [
        "model = Doc2Vec.load(\"/vscode/finalProject/Human-Identification-from-Text-Messages/DataToCSV/doc2vec.h5\")"
      ]
    }
  ],
  "metadata": {
    "colab": {
      "include_colab_link": true,
      "provenance": []
    },
    "kernelspec": {
      "display_name": "Python 3.9.7 64-bit",
      "language": "python",
      "name": "python3"
    },
    "language_info": {
      "codemirror_mode": {
        "name": "ipython",
        "version": 3
      },
      "file_extension": ".py",
      "mimetype": "text/x-python",
      "name": "python",
      "nbconvert_exporter": "python",
      "pygments_lexer": "ipython3",
      "version": "3.9.7"
    },
    "vscode": {
      "interpreter": {
        "hash": "1d5c1156327dacead463cc502c55ebae8ce9c8c01979cf154173ff808e75bf55"
      }
    }
  },
  "nbformat": 4,
  "nbformat_minor": 0
}
