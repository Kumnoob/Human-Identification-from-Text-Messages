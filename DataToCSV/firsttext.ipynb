{
 "cells": [
  {
   "cell_type": "code",
   "execution_count": 1,
   "metadata": {},
   "outputs": [],
   "source": [
    "import csv\n",
    "import sys\n",
    "maxInt = sys.maxsize\n",
    "\n",
    "while True:\n",
    "    try:\n",
    "        csv.field_size_limit(maxInt)\n",
    "        break\n",
    "    except OverflowError:\n",
    "        maxInt = int(maxInt/10)\n",
    "from collections import defaultdict\n",
    "\n",
    "import string\n",
    "import re\n",
    "import pandas as pd\n",
    "import openpyxl"
   ]
  },
  {
   "cell_type": "code",
   "execution_count": 2,
   "metadata": {},
   "outputs": [],
   "source": [
    "def clean_text(text):\n",
    "    # Remove punctuation\n",
    "    text = re.sub(f'[{string.punctuation}]', '', text)\n",
    "    # Lowercase text\n",
    "    text = text.lower()\n",
    "    return text"
   ]
  },
  {
   "cell_type": "code",
   "execution_count": 3,
   "metadata": {},
   "outputs": [],
   "source": [
    "header_map = {\"header1\": \"employee\", \"header2\": \"body\"}\n",
    "texts_by_label = defaultdict(list)\n",
    "\n",
    "with open(\"/Users/USER/Desktop/project/cleaned_data.csv\", \"r\") as f:\n",
    "    reader = csv.DictReader(f)\n",
    "    headers = reader.fieldnames\n",
    "    label_header = header_map[\"header1\"]\n",
    "    text_header = header_map[\"header2\"]\n",
    "    for row in reader:\n",
    "        label = row[label_header]\n",
    "        text = row[text_header]\n",
    "        texts_by_label[label].append(text)\n",
    "\n",
    "first_text_by_label = [texts[0] for label, texts in texts_by_label.items()]"
   ]
  },
  {
   "cell_type": "code",
   "execution_count": 8,
   "metadata": {},
   "outputs": [],
   "source": [
    "# load the existing xlsx file\n",
    "wb = openpyxl.load_workbook('/Users/USER/Desktop/project/list_name_authors.xlsx')\n",
    "\n",
    "# select the first sheet\n",
    "ws = wb.worksheets[0]\n",
    "\n",
    "# specify the starting row and column\n",
    "start_row = 2\n",
    "start_col = 5\n",
    "for row in first_text_by_label:\n",
    "    ws.cell(row=start_row, column=start_col, value=str(row))\n",
    "    start_row += 1\n",
    "\n",
    "# save the changes\n",
    "wb.save('test_is_this_work.xlsx')"
   ]
  },
  {
   "cell_type": "code",
   "execution_count": 11,
   "metadata": {},
   "outputs": [
    {
     "data": {
      "text/plain": [
       "'\\n forwarded by eric basshouect on 03092001 0824 am \\n   \\n\\t  from  larry joe hunter                           03082001 0553 pm\\t\\n\\t\\t\\n\\n\\nto\\teric basshouectect\\ncc\\tjanie aguayohouectect \\nsubject\\trebook  qu0663 mirant\\n\\neric\\n\\ncan you adjust tagg shortname to mirantameene  currently mirantameenecan\\n\\nthanks\\njoe\\n\\n\\n'"
      ]
     },
     "execution_count": 11,
     "metadata": {},
     "output_type": "execute_result"
    }
   ],
   "source": [
    "first_text_by_label[3]"
   ]
  }
 ],
 "metadata": {
  "kernelspec": {
   "display_name": "Python 3",
   "language": "python",
   "name": "python3"
  },
  "language_info": {
   "codemirror_mode": {
    "name": "ipython",
    "version": 3
   },
   "file_extension": ".py",
   "mimetype": "text/x-python",
   "name": "python",
   "nbconvert_exporter": "python",
   "pygments_lexer": "ipython3",
   "version": "3.9.7"
  },
  "orig_nbformat": 4,
  "vscode": {
   "interpreter": {
    "hash": "1d5c1156327dacead463cc502c55ebae8ce9c8c01979cf154173ff808e75bf55"
   }
  }
 },
 "nbformat": 4,
 "nbformat_minor": 2
}
